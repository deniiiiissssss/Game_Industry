{
 "cells": [
  {
   "cell_type": "code",
   "execution_count": 5,
   "id": "million-strengthening",
   "metadata": {},
   "outputs": [],
   "source": [
    "import pandas as pd\n",
    "import plotly.express as px\n",
    "\n",
    "# MAIN DATAFRAME\n",
    "games_df = pd.read_csv('games.csv')\n",
    "games_df = games_df.loc[(games_df['Year_of_Release'] >= 2000)].dropna()\n",
    "games_df['Year_of_Release'] = games_df['Year_of_Release'].astype(int)\n",
    "\n",
    "#cn_df = len(games_df.loc[(games_df.Rating.isin(list(rating_dropdown))) | (games_df.Genre.isin(list(genre_dropdown)))])"
   ]
  },
  {
   "cell_type": "code",
   "execution_count": 15,
   "id": "invisible-safety",
   "metadata": {},
   "outputs": [
    {
     "data": {
      "text/plain": [
       "[2000,\n",
       " 2001,\n",
       " 2002,\n",
       " 2003,\n",
       " 2004,\n",
       " 2005,\n",
       " 2006,\n",
       " 2007,\n",
       " 2008,\n",
       " 2009,\n",
       " 2010,\n",
       " 2011,\n",
       " 2012,\n",
       " 2013,\n",
       " 2014,\n",
       " 2015,\n",
       " 2016]"
      ]
     },
     "execution_count": 15,
     "metadata": {},
     "output_type": "execute_result"
    }
   ],
   "source": [
    "genre_dropdown = ['Sports','Racing','Platform','Simulation','Role-Playing']\n",
    "rating_dropdown = []\n",
    "list(games_df.loc[(games_df.Rating.isin(rating_dropdown)) | (games_df.Genre.isin(list(genre_dropdown)))]['Year_of_Release'].astype(int).sort_values().unique())"
   ]
  }
 ],
 "metadata": {
  "kernelspec": {
   "display_name": "Python 3",
   "language": "python",
   "name": "python3"
  },
  "language_info": {
   "codemirror_mode": {
    "name": "ipython",
    "version": 3
   },
   "file_extension": ".py",
   "mimetype": "text/x-python",
   "name": "python",
   "nbconvert_exporter": "python",
   "pygments_lexer": "ipython3",
   "version": "3.9.2"
  }
 },
 "nbformat": 4,
 "nbformat_minor": 5
}
